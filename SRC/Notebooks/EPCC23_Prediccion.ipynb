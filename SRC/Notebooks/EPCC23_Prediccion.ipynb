{
  "cells": [
    {
      "cell_type": "code",
      "execution_count": null,
      "metadata": {
        "id": "VKsLYj9Awdfp"
      },
      "outputs": [],
      "source": []
    },
    {
      "cell_type": "markdown",
      "metadata": {
        "id": "jFqoZy91wdfr"
      },
      "source": [
        "# INFORMACIÓN DEL PROYECTO"
      ]
    },
    {
      "cell_type": "markdown",
      "metadata": {
        "id": "BHaotiJUwdfu"
      },
      "source": [
        "### TÍTULO"
      ]
    },
    {
      "cell_type": "markdown",
      "metadata": {
        "id": "1JdWkoRgwdfv"
      },
      "source": [
        "Titulo = \"El quién, el qué y el cuánto del consumo cultural en Cataluña\""
      ]
    },
    {
      "cell_type": "code",
      "execution_count": 5,
      "metadata": {
        "id": "2-501dLUwdf2"
      },
      "outputs": [],
      "source": [
        "import numpy as np\n",
        "import pandas as pd\n",
        "import os\n",
        "from tensorflow.keras.models import Model\n",
        "from tensorflow.keras.layers import Input, Dense\n",
        "from sklearn.cluster import KMeans\n",
        "from sklearn.decomposition import PCA\n",
        "import seaborn as sns\n",
        "import matplotlib.pyplot as plt\n",
        "from sklearn.metrics import silhouette_score\n",
        "from sklearn.preprocessing import StandardScaler\n",
        "from sklearn.metrics import davies_bouldin_score\n",
        "from scipy.stats import f_oneway\n",
        "from sklearn.model_selection import train_test_split\n",
        "from scipy.stats import chi2_contingency, f_oneway\n",
        "from IPython.display import display, HTML\n",
        "from sklearn.impute import SimpleImputer\n",
        "import matplotlib.pyplot as plt\n",
        "from mpl_toolkits.mplot3d import Axes3D\n",
        "from sklearn.decomposition import PCA\n",
        "import warnings\n",
        "from sklearn import linear_model\n",
        "from sklearn import model_selection\n",
        "from sklearn.metrics import classification_report\n",
        "from sklearn.metrics import confusion_matrix\n",
        "from sklearn.metrics import accuracy_score\n",
        "from sklearn.linear_model import LinearRegression\n",
        "from sklearn.neighbors import KNeighborsRegressor\n",
        "from sklearn.metrics import ConfusionMatrixDisplay, mean_absolute_error, mean_squared_error, mean_absolute_percentage_error\n",
        "from sklearn.linear_model import LogisticRegression\n",
        "from sklearn.ensemble import RandomForestRegressor\n",
        "from sklearn.preprocessing import LabelEncoder\n",
        "from sklearn.tree import DecisionTreeRegressor\n",
        "from xgboost import XGBRegressor\n",
        "from lightgbm import LGBMRegressor\n",
        "#from catboost import CatBoostRegressor\n",
        "from sklearn.linear_model import ElasticNet\n",
        "from sklearn.model_selection import train_test_split, cross_val_score, GridSearchCV, RandomizedSearchCV\n",
        "#import bootcampviztools as bt\n",
        "from pandas.plotting import table\n",
        "from sklearn.inspection import permutation_importance\n"
      ]
    },
    {
      "cell_type": "code",
      "source": [
        "epcc23 = pd.read_csv(\"epcc23.csv\")"
      ],
      "metadata": {
        "id": "0rxUHpw7iVcj"
      },
      "execution_count": 6,
      "outputs": []
    },
    {
      "cell_type": "code",
      "execution_count": 7,
      "metadata": {
        "id": "0fH4MLXtwdf3",
        "colab": {
          "base_uri": "https://localhost:8080/",
          "height": 255
        },
        "outputId": "06e5dd05-2494-4377-90da-61db3bee8484"
      },
      "outputs": [
        {
          "output_type": "execute_result",
          "data": {
            "text/plain": [
              "   Idioma_preferencia  Residencia_habitual  Quienes_conviven  Cuantos_menores  \\\n",
              "0                   2                    3                 4              2.0   \n",
              "1                   2                    3                 4              1.0   \n",
              "2                   1                    3                 4              2.0   \n",
              "3                   1                    3                 5              2.0   \n",
              "4                   1                    3                 0              0.0   \n",
              "\n",
              "   Cuantas_horas_audiovisuales_ayer  Horas_internet_ayer  \\\n",
              "0                               3.0                  3.0   \n",
              "1                               3.0                  4.0   \n",
              "2                               3.0                  3.0   \n",
              "3                               5.0                  3.0   \n",
              "4                               4.0                  3.0   \n",
              "\n",
              "   Grado_interes_videojuegos  Media_horas_juego_semanal  Multijugador  \\\n",
              "0                          9                        2.0           1.0   \n",
              "1                         10                       14.0           1.0   \n",
              "2                          8                        3.0           0.0   \n",
              "3                          8                        3.0           1.0   \n",
              "4                          9                       15.0           1.0   \n",
              "\n",
              "   Juego_nocturno  ...  Motivo_visita_biblioteca  Tareas_realizadas  \\\n",
              "0             1.0  ...                         6                 10   \n",
              "1             1.0  ...                         0                  0   \n",
              "2             0.0  ...                         2                  2   \n",
              "3             0.0  ...                         2                1,7   \n",
              "4             1.0  ...                         2                  7   \n",
              "\n",
              "   Ambito_asociacionismo  Idioma_en_internet  Usos_internet  \\\n",
              "0                      0                   3            3,4   \n",
              "1                      0                   2          3,4,7   \n",
              "2                      0                 2,3            3,4   \n",
              "3                      0                   2            3,4   \n",
              "4                      0                 1,2            3,4   \n",
              "\n",
              "   Conceptos_asociados_videojuegos  Lengua_habitual_hogar  \\\n",
              "0                            1,2,5                  1,2,3   \n",
              "1                            1,2,5                      2   \n",
              "2                                2                      1   \n",
              "3                            1,2,5                    1,2   \n",
              "4                            1,4,8                      1   \n",
              "\n",
              "   Dominio_linguistico  valores_positivos_videojuegos  \\\n",
              "0                1,2,3                       [2, 3.0]   \n",
              "1                    1                       [3, 4.0]   \n",
              "2                    1                       [1, 3.0]   \n",
              "3                    1                       [3, 2.0]   \n",
              "4                  1,2                       [3, 5.0]   \n",
              "\n",
              "   valores_negativos_videojuegos  \n",
              "0                       [4, 1.0]  \n",
              "1                       [1, 3.0]  \n",
              "2                       [6, 1.0]  \n",
              "3                       [4, 1.0]  \n",
              "4                       [3, 6.0]  \n",
              "\n",
              "[5 rows x 117 columns]"
            ],
            "text/html": [
              "\n",
              "  <div id=\"df-58a27367-4676-492e-8be6-bdd3b55db9e5\" class=\"colab-df-container\">\n",
              "    <div>\n",
              "<style scoped>\n",
              "    .dataframe tbody tr th:only-of-type {\n",
              "        vertical-align: middle;\n",
              "    }\n",
              "\n",
              "    .dataframe tbody tr th {\n",
              "        vertical-align: top;\n",
              "    }\n",
              "\n",
              "    .dataframe thead th {\n",
              "        text-align: right;\n",
              "    }\n",
              "</style>\n",
              "<table border=\"1\" class=\"dataframe\">\n",
              "  <thead>\n",
              "    <tr style=\"text-align: right;\">\n",
              "      <th></th>\n",
              "      <th>Idioma_preferencia</th>\n",
              "      <th>Residencia_habitual</th>\n",
              "      <th>Quienes_conviven</th>\n",
              "      <th>Cuantos_menores</th>\n",
              "      <th>Cuantas_horas_audiovisuales_ayer</th>\n",
              "      <th>Horas_internet_ayer</th>\n",
              "      <th>Grado_interes_videojuegos</th>\n",
              "      <th>Media_horas_juego_semanal</th>\n",
              "      <th>Multijugador</th>\n",
              "      <th>Juego_nocturno</th>\n",
              "      <th>...</th>\n",
              "      <th>Motivo_visita_biblioteca</th>\n",
              "      <th>Tareas_realizadas</th>\n",
              "      <th>Ambito_asociacionismo</th>\n",
              "      <th>Idioma_en_internet</th>\n",
              "      <th>Usos_internet</th>\n",
              "      <th>Conceptos_asociados_videojuegos</th>\n",
              "      <th>Lengua_habitual_hogar</th>\n",
              "      <th>Dominio_linguistico</th>\n",
              "      <th>valores_positivos_videojuegos</th>\n",
              "      <th>valores_negativos_videojuegos</th>\n",
              "    </tr>\n",
              "  </thead>\n",
              "  <tbody>\n",
              "    <tr>\n",
              "      <th>0</th>\n",
              "      <td>2</td>\n",
              "      <td>3</td>\n",
              "      <td>4</td>\n",
              "      <td>2.0</td>\n",
              "      <td>3.0</td>\n",
              "      <td>3.0</td>\n",
              "      <td>9</td>\n",
              "      <td>2.0</td>\n",
              "      <td>1.0</td>\n",
              "      <td>1.0</td>\n",
              "      <td>...</td>\n",
              "      <td>6</td>\n",
              "      <td>10</td>\n",
              "      <td>0</td>\n",
              "      <td>3</td>\n",
              "      <td>3,4</td>\n",
              "      <td>1,2,5</td>\n",
              "      <td>1,2,3</td>\n",
              "      <td>1,2,3</td>\n",
              "      <td>[2, 3.0]</td>\n",
              "      <td>[4, 1.0]</td>\n",
              "    </tr>\n",
              "    <tr>\n",
              "      <th>1</th>\n",
              "      <td>2</td>\n",
              "      <td>3</td>\n",
              "      <td>4</td>\n",
              "      <td>1.0</td>\n",
              "      <td>3.0</td>\n",
              "      <td>4.0</td>\n",
              "      <td>10</td>\n",
              "      <td>14.0</td>\n",
              "      <td>1.0</td>\n",
              "      <td>1.0</td>\n",
              "      <td>...</td>\n",
              "      <td>0</td>\n",
              "      <td>0</td>\n",
              "      <td>0</td>\n",
              "      <td>2</td>\n",
              "      <td>3,4,7</td>\n",
              "      <td>1,2,5</td>\n",
              "      <td>2</td>\n",
              "      <td>1</td>\n",
              "      <td>[3, 4.0]</td>\n",
              "      <td>[1, 3.0]</td>\n",
              "    </tr>\n",
              "    <tr>\n",
              "      <th>2</th>\n",
              "      <td>1</td>\n",
              "      <td>3</td>\n",
              "      <td>4</td>\n",
              "      <td>2.0</td>\n",
              "      <td>3.0</td>\n",
              "      <td>3.0</td>\n",
              "      <td>8</td>\n",
              "      <td>3.0</td>\n",
              "      <td>0.0</td>\n",
              "      <td>0.0</td>\n",
              "      <td>...</td>\n",
              "      <td>2</td>\n",
              "      <td>2</td>\n",
              "      <td>0</td>\n",
              "      <td>2,3</td>\n",
              "      <td>3,4</td>\n",
              "      <td>2</td>\n",
              "      <td>1</td>\n",
              "      <td>1</td>\n",
              "      <td>[1, 3.0]</td>\n",
              "      <td>[6, 1.0]</td>\n",
              "    </tr>\n",
              "    <tr>\n",
              "      <th>3</th>\n",
              "      <td>1</td>\n",
              "      <td>3</td>\n",
              "      <td>5</td>\n",
              "      <td>2.0</td>\n",
              "      <td>5.0</td>\n",
              "      <td>3.0</td>\n",
              "      <td>8</td>\n",
              "      <td>3.0</td>\n",
              "      <td>1.0</td>\n",
              "      <td>0.0</td>\n",
              "      <td>...</td>\n",
              "      <td>2</td>\n",
              "      <td>1,7</td>\n",
              "      <td>0</td>\n",
              "      <td>2</td>\n",
              "      <td>3,4</td>\n",
              "      <td>1,2,5</td>\n",
              "      <td>1,2</td>\n",
              "      <td>1</td>\n",
              "      <td>[3, 2.0]</td>\n",
              "      <td>[4, 1.0]</td>\n",
              "    </tr>\n",
              "    <tr>\n",
              "      <th>4</th>\n",
              "      <td>1</td>\n",
              "      <td>3</td>\n",
              "      <td>0</td>\n",
              "      <td>0.0</td>\n",
              "      <td>4.0</td>\n",
              "      <td>3.0</td>\n",
              "      <td>9</td>\n",
              "      <td>15.0</td>\n",
              "      <td>1.0</td>\n",
              "      <td>1.0</td>\n",
              "      <td>...</td>\n",
              "      <td>2</td>\n",
              "      <td>7</td>\n",
              "      <td>0</td>\n",
              "      <td>1,2</td>\n",
              "      <td>3,4</td>\n",
              "      <td>1,4,8</td>\n",
              "      <td>1</td>\n",
              "      <td>1,2</td>\n",
              "      <td>[3, 5.0]</td>\n",
              "      <td>[3, 6.0]</td>\n",
              "    </tr>\n",
              "  </tbody>\n",
              "</table>\n",
              "<p>5 rows × 117 columns</p>\n",
              "</div>\n",
              "    <div class=\"colab-df-buttons\">\n",
              "\n",
              "  <div class=\"colab-df-container\">\n",
              "    <button class=\"colab-df-convert\" onclick=\"convertToInteractive('df-58a27367-4676-492e-8be6-bdd3b55db9e5')\"\n",
              "            title=\"Convert this dataframe to an interactive table.\"\n",
              "            style=\"display:none;\">\n",
              "\n",
              "  <svg xmlns=\"http://www.w3.org/2000/svg\" height=\"24px\" viewBox=\"0 -960 960 960\">\n",
              "    <path d=\"M120-120v-720h720v720H120Zm60-500h600v-160H180v160Zm220 220h160v-160H400v160Zm0 220h160v-160H400v160ZM180-400h160v-160H180v160Zm440 0h160v-160H620v160ZM180-180h160v-160H180v160Zm440 0h160v-160H620v160Z\"/>\n",
              "  </svg>\n",
              "    </button>\n",
              "\n",
              "  <style>\n",
              "    .colab-df-container {\n",
              "      display:flex;\n",
              "      gap: 12px;\n",
              "    }\n",
              "\n",
              "    .colab-df-convert {\n",
              "      background-color: #E8F0FE;\n",
              "      border: none;\n",
              "      border-radius: 50%;\n",
              "      cursor: pointer;\n",
              "      display: none;\n",
              "      fill: #1967D2;\n",
              "      height: 32px;\n",
              "      padding: 0 0 0 0;\n",
              "      width: 32px;\n",
              "    }\n",
              "\n",
              "    .colab-df-convert:hover {\n",
              "      background-color: #E2EBFA;\n",
              "      box-shadow: 0px 1px 2px rgba(60, 64, 67, 0.3), 0px 1px 3px 1px rgba(60, 64, 67, 0.15);\n",
              "      fill: #174EA6;\n",
              "    }\n",
              "\n",
              "    .colab-df-buttons div {\n",
              "      margin-bottom: 4px;\n",
              "    }\n",
              "\n",
              "    [theme=dark] .colab-df-convert {\n",
              "      background-color: #3B4455;\n",
              "      fill: #D2E3FC;\n",
              "    }\n",
              "\n",
              "    [theme=dark] .colab-df-convert:hover {\n",
              "      background-color: #434B5C;\n",
              "      box-shadow: 0px 1px 3px 1px rgba(0, 0, 0, 0.15);\n",
              "      filter: drop-shadow(0px 1px 2px rgba(0, 0, 0, 0.3));\n",
              "      fill: #FFFFFF;\n",
              "    }\n",
              "  </style>\n",
              "\n",
              "    <script>\n",
              "      const buttonEl =\n",
              "        document.querySelector('#df-58a27367-4676-492e-8be6-bdd3b55db9e5 button.colab-df-convert');\n",
              "      buttonEl.style.display =\n",
              "        google.colab.kernel.accessAllowed ? 'block' : 'none';\n",
              "\n",
              "      async function convertToInteractive(key) {\n",
              "        const element = document.querySelector('#df-58a27367-4676-492e-8be6-bdd3b55db9e5');\n",
              "        const dataTable =\n",
              "          await google.colab.kernel.invokeFunction('convertToInteractive',\n",
              "                                                    [key], {});\n",
              "        if (!dataTable) return;\n",
              "\n",
              "        const docLinkHtml = 'Like what you see? Visit the ' +\n",
              "          '<a target=\"_blank\" href=https://colab.research.google.com/notebooks/data_table.ipynb>data table notebook</a>'\n",
              "          + ' to learn more about interactive tables.';\n",
              "        element.innerHTML = '';\n",
              "        dataTable['output_type'] = 'display_data';\n",
              "        await google.colab.output.renderOutput(dataTable, element);\n",
              "        const docLink = document.createElement('div');\n",
              "        docLink.innerHTML = docLinkHtml;\n",
              "        element.appendChild(docLink);\n",
              "      }\n",
              "    </script>\n",
              "  </div>\n",
              "\n",
              "\n",
              "<div id=\"df-34e55b4a-b8f5-47ef-bc38-66290c173d38\">\n",
              "  <button class=\"colab-df-quickchart\" onclick=\"quickchart('df-34e55b4a-b8f5-47ef-bc38-66290c173d38')\"\n",
              "            title=\"Suggest charts\"\n",
              "            style=\"display:none;\">\n",
              "\n",
              "<svg xmlns=\"http://www.w3.org/2000/svg\" height=\"24px\"viewBox=\"0 0 24 24\"\n",
              "     width=\"24px\">\n",
              "    <g>\n",
              "        <path d=\"M19 3H5c-1.1 0-2 .9-2 2v14c0 1.1.9 2 2 2h14c1.1 0 2-.9 2-2V5c0-1.1-.9-2-2-2zM9 17H7v-7h2v7zm4 0h-2V7h2v10zm4 0h-2v-4h2v4z\"/>\n",
              "    </g>\n",
              "</svg>\n",
              "  </button>\n",
              "\n",
              "<style>\n",
              "  .colab-df-quickchart {\n",
              "      --bg-color: #E8F0FE;\n",
              "      --fill-color: #1967D2;\n",
              "      --hover-bg-color: #E2EBFA;\n",
              "      --hover-fill-color: #174EA6;\n",
              "      --disabled-fill-color: #AAA;\n",
              "      --disabled-bg-color: #DDD;\n",
              "  }\n",
              "\n",
              "  [theme=dark] .colab-df-quickchart {\n",
              "      --bg-color: #3B4455;\n",
              "      --fill-color: #D2E3FC;\n",
              "      --hover-bg-color: #434B5C;\n",
              "      --hover-fill-color: #FFFFFF;\n",
              "      --disabled-bg-color: #3B4455;\n",
              "      --disabled-fill-color: #666;\n",
              "  }\n",
              "\n",
              "  .colab-df-quickchart {\n",
              "    background-color: var(--bg-color);\n",
              "    border: none;\n",
              "    border-radius: 50%;\n",
              "    cursor: pointer;\n",
              "    display: none;\n",
              "    fill: var(--fill-color);\n",
              "    height: 32px;\n",
              "    padding: 0;\n",
              "    width: 32px;\n",
              "  }\n",
              "\n",
              "  .colab-df-quickchart:hover {\n",
              "    background-color: var(--hover-bg-color);\n",
              "    box-shadow: 0 1px 2px rgba(60, 64, 67, 0.3), 0 1px 3px 1px rgba(60, 64, 67, 0.15);\n",
              "    fill: var(--button-hover-fill-color);\n",
              "  }\n",
              "\n",
              "  .colab-df-quickchart-complete:disabled,\n",
              "  .colab-df-quickchart-complete:disabled:hover {\n",
              "    background-color: var(--disabled-bg-color);\n",
              "    fill: var(--disabled-fill-color);\n",
              "    box-shadow: none;\n",
              "  }\n",
              "\n",
              "  .colab-df-spinner {\n",
              "    border: 2px solid var(--fill-color);\n",
              "    border-color: transparent;\n",
              "    border-bottom-color: var(--fill-color);\n",
              "    animation:\n",
              "      spin 1s steps(1) infinite;\n",
              "  }\n",
              "\n",
              "  @keyframes spin {\n",
              "    0% {\n",
              "      border-color: transparent;\n",
              "      border-bottom-color: var(--fill-color);\n",
              "      border-left-color: var(--fill-color);\n",
              "    }\n",
              "    20% {\n",
              "      border-color: transparent;\n",
              "      border-left-color: var(--fill-color);\n",
              "      border-top-color: var(--fill-color);\n",
              "    }\n",
              "    30% {\n",
              "      border-color: transparent;\n",
              "      border-left-color: var(--fill-color);\n",
              "      border-top-color: var(--fill-color);\n",
              "      border-right-color: var(--fill-color);\n",
              "    }\n",
              "    40% {\n",
              "      border-color: transparent;\n",
              "      border-right-color: var(--fill-color);\n",
              "      border-top-color: var(--fill-color);\n",
              "    }\n",
              "    60% {\n",
              "      border-color: transparent;\n",
              "      border-right-color: var(--fill-color);\n",
              "    }\n",
              "    80% {\n",
              "      border-color: transparent;\n",
              "      border-right-color: var(--fill-color);\n",
              "      border-bottom-color: var(--fill-color);\n",
              "    }\n",
              "    90% {\n",
              "      border-color: transparent;\n",
              "      border-bottom-color: var(--fill-color);\n",
              "    }\n",
              "  }\n",
              "</style>\n",
              "\n",
              "  <script>\n",
              "    async function quickchart(key) {\n",
              "      const quickchartButtonEl =\n",
              "        document.querySelector('#' + key + ' button');\n",
              "      quickchartButtonEl.disabled = true;  // To prevent multiple clicks.\n",
              "      quickchartButtonEl.classList.add('colab-df-spinner');\n",
              "      try {\n",
              "        const charts = await google.colab.kernel.invokeFunction(\n",
              "            'suggestCharts', [key], {});\n",
              "      } catch (error) {\n",
              "        console.error('Error during call to suggestCharts:', error);\n",
              "      }\n",
              "      quickchartButtonEl.classList.remove('colab-df-spinner');\n",
              "      quickchartButtonEl.classList.add('colab-df-quickchart-complete');\n",
              "    }\n",
              "    (() => {\n",
              "      let quickchartButtonEl =\n",
              "        document.querySelector('#df-34e55b4a-b8f5-47ef-bc38-66290c173d38 button');\n",
              "      quickchartButtonEl.style.display =\n",
              "        google.colab.kernel.accessAllowed ? 'block' : 'none';\n",
              "    })();\n",
              "  </script>\n",
              "</div>\n",
              "\n",
              "    </div>\n",
              "  </div>\n"
            ],
            "application/vnd.google.colaboratory.intrinsic+json": {
              "type": "dataframe",
              "variable_name": "epcc23"
            }
          },
          "metadata": {},
          "execution_count": 7
        }
      ],
      "source": [
        "epcc23.head()"
      ]
    },
    {
      "cell_type": "markdown",
      "metadata": {
        "id": "XNGMLTGPwdf4"
      },
      "source": [
        "-------------------------------------"
      ]
    },
    {
      "cell_type": "code",
      "execution_count": 8,
      "metadata": {
        "id": "jkFXwf7gwdf5"
      },
      "outputs": [],
      "source": [
        "# Por si acaso, hago una copia\n",
        "epcc23co = epcc23.copy()"
      ]
    },
    {
      "cell_type": "code",
      "execution_count": 9,
      "metadata": {
        "id": "MiJ-nTn6wdf5",
        "colab": {
          "base_uri": "https://localhost:8080/"
        },
        "outputId": "208bf77c-ff64-4172-af8b-28d144fc9e5e"
      },
      "outputs": [
        {
          "output_type": "stream",
          "name": "stdout",
          "text": [
            "<class 'pandas.core.frame.DataFrame'>\n",
            "RangeIndex: 4114 entries, 0 to 4113\n",
            "Columns: 117 entries, Idioma_preferencia to valores_negativos_videojuegos\n",
            "dtypes: float64(43), int64(28), object(46)\n",
            "memory usage: 3.7+ MB\n"
          ]
        }
      ],
      "source": [
        "# Examino el df\n",
        "epcc23.info()"
      ]
    },
    {
      "cell_type": "markdown",
      "metadata": {
        "id": "MmdIHlclwdgG"
      },
      "source": [
        "#### Breve mapa de variables    \n",
        "Según su prefijo, las variables indican de qué tratan:\n",
        "* D = Diarios\n",
        "* PP = Revistas\n",
        "* R = Radio\n",
        "* CA = Contenidos Audiovisuales\n",
        "* T = Televisión\n",
        "* IT = Internet\n",
        "* VJ = Videojuegos\n",
        "* M = Música\n",
        "* CO = Conciertos\n",
        "* CN = Cine\n",
        "* ES = Espectáculos\n",
        "* EX = Exposiciones\n",
        "* LL = Libros\n",
        "* BI = Bibliotecas\n",
        "* AS = Asociacionismo\n",
        "* I = Idiomas\n",
        "* D = Demografía\n",
        "* OR = Orígen\n",
        "* LN = Lenguas\n",
        "* CS = caracterización sociodemográfica\n",
        "* G = General\n",
        "* AmT = Ámbito Territorial"
      ]
    },
    {
      "cell_type": "markdown",
      "metadata": {
        "id": "DyNRtEt9wdgW"
      },
      "source": [
        "Targets:"
      ]
    },
    {
      "cell_type": "code",
      "execution_count": 10,
      "metadata": {
        "id": "IjqSzyHZwdgW"
      },
      "outputs": [],
      "source": [
        "targets = [\"Media_horas_juego_semanal\", \"Horas_musica_ayer\", \"Cuantos_conciertos_año\", \"Cuantos_festivales_año\", \"Cuantas_pelis_3_meses\", \"Cuantos_espectaculos_año\",\n",
        "           \"Cuantas_visitas_museo\", \"Cuantas_visitas_galeria_arte\", \"Cuantas_visitas_salas_expos\", \"Cuantas_visitas_monumentos\", \"Cuantas_expos_otros\", \"Cuantos_libros_año\"]\n",
        "\n",
        "# Separar las características y los targets\n",
        "X = epcc23.drop(columns=targets)\n",
        "\n",
        "y1 = epcc23[\"Media_horas_juego_semanal\"]\n",
        "y2 = epcc23[\"Horas_musica_ayer\"]\n",
        "y3 = epcc23[[\"Cuantos_conciertos_año\", \"Cuantos_festivales_año\"]].sum(axis=1)  # Sumo las variables relacionadas con número de conciertos y de festivales\n",
        "y4 = epcc23[\"Cuantas_pelis_3_meses\"]\n",
        "y5 = epcc23[\"Cuantos_espectaculos_año\"]\n",
        "y6 = epcc23[[\"Cuantas_visitas_museo\", \"Cuantas_visitas_galeria_arte\", \"Cuantas_visitas_salas_expos\", \"Cuantas_visitas_monumentos\", \"Cuantas_expos_otros\"]].sum(axis=1)  # Sumar las columnas relacionadas con museos, galerías y otros.\n",
        "y7 = epcc23[\"Cuantos_libros_año\"]"
      ]
    },
    {
      "cell_type": "code",
      "execution_count": 11,
      "metadata": {
        "id": "SGUNKbLWwdgW",
        "colab": {
          "base_uri": "https://localhost:8080/"
        },
        "outputId": "e1dc0ef7-e813-48af-e4ea-d08e978366a8"
      },
      "outputs": [
        {
          "output_type": "stream",
          "name": "stdout",
          "text": [
            "4114 4114 4114 4114 4114 4114 4114 4114\n"
          ]
        }
      ],
      "source": [
        "print(len(X), len(y1), len(y2), len(y3), len(y4), len(y5), len(y6), len(y7))"
      ]
    },
    {
      "cell_type": "markdown",
      "source": [
        "II. Prediccion con Regresión"
      ],
      "metadata": {
        "id": "KksfjUAQuCDY"
      }
    },
    {
      "cell_type": "markdown",
      "source": [
        "Ahora vamos a intentar predecir los diferentes targets para nuestros usuarios.\n",
        "\n",
        "Recordamos que los targets son:\n"
      ],
      "metadata": {
        "id": "TuYq1sf9uG_y"
      }
    },
    {
      "cell_type": "code",
      "source": [
        "targets = [\"Media_horas_juego_semanal\", \"Horas_musica_ayer\", \"Cuantos_conciertos_año\", \"Cuantos_festivales_año\", \"Cuantas_pelis_3_meses\", \"Cuantos_espectaculos_año\",\n",
        "           \"Cuantas_visitas_museo\", \"Cuantas_visitas_galeria_arte\", \"Cuantas_visitas_salas_expos\", \"Cuantas_visitas_monumentos\", \"Cuantas_expos_otros\", \"Cuantos_libros_año\"]"
      ],
      "metadata": {
        "id": "LI2X5C40ujC5"
      },
      "execution_count": 12,
      "outputs": []
    },
    {
      "cell_type": "markdown",
      "source": [
        "Y que además tenemos que quitar las columnas que hemos creado en las 2 clusterizaciones:"
      ],
      "metadata": {
        "id": "v0JmeQztvJak"
      }
    },
    {
      "cell_type": "code",
      "source": [
        "columnas_clusters = [col for col in epcc23.columns if col.startswith('Clu.')]"
      ],
      "metadata": {
        "id": "ObpWhBjzvNsO"
      },
      "execution_count": 13,
      "outputs": []
    },
    {
      "cell_type": "code",
      "source": [
        "epcc23_pred = epcc23.drop(columns = columnas_clusters)"
      ],
      "metadata": {
        "id": "AlVD_6SfvZ78"
      },
      "execution_count": 14,
      "outputs": []
    },
    {
      "cell_type": "markdown",
      "source": [
        "Pero vamos a intentar predecir, primero, de a uno."
      ],
      "metadata": {
        "id": "EXZJhJO0ukym"
      }
    },
    {
      "cell_type": "markdown",
      "source": [
        "Lo primero será dividir nuestro dataset en X e y, y en train y test:"
      ],
      "metadata": {
        "id": "5NQXQA_nupG3"
      }
    },
    {
      "cell_type": "code",
      "source": [
        "# Mi X:\n",
        "X = epcc23_pred.drop(columns = targets)\n",
        "\n",
        "# Mis features son estas, así agrupadas\n",
        "epcc23_pred['VJ'] = epcc23_pred['Media_horas_juego_semanal']\n",
        "epcc23_pred['MU'] = epcc23_pred['Horas_musica_ayer']\n",
        "epcc23_pred['CO_FE'] = epcc23_pred['Cuantos_conciertos_año'] + epcc23_pred['Cuantos_festivales_año']\n",
        "epcc23_pred['CI'] = epcc23_pred['Cuantas_pelis_3_meses']\n",
        "epcc23_pred['ES'] = epcc23_pred['Cuantos_espectaculos_año']\n",
        "epcc23_pred['EX'] = (epcc23_pred['Cuantas_visitas_museo'] +\n",
        "                     epcc23_pred['Cuantas_visitas_galeria_arte'] +\n",
        "                     epcc23_pred['Cuantas_visitas_salas_expos'] +\n",
        "                     epcc23_pred['Cuantas_visitas_monumentos'] +\n",
        "                     epcc23_pred['Cuantas_expos_otros'])\n",
        "epcc23_pred['LI'] = epcc23_pred['Cuantos_libros_año']\n",
        "\n",
        "# Aquí las pongo como targets\n",
        "y1 = epcc23_pred['VJ']\n",
        "y2 = epcc23_pred['MU']\n",
        "y3 = epcc23_pred[['Cuantos_conciertos_año', 'Cuantos_festivales_año']].sum(axis=1)\n",
        "y4 = epcc23_pred['CI']\n",
        "y5 = epcc23_pred['ES']\n",
        "y6 = epcc23_pred[['Cuantas_visitas_museo', 'Cuantas_visitas_galeria_arte', 'Cuantas_visitas_salas_expos',\n",
        "                  'Cuantas_visitas_monumentos', 'Cuantas_expos_otros']].sum(axis=1)\n",
        "y7 = epcc23_pred['LI']"
      ],
      "metadata": {
        "id": "8D7Yvortvpvz"
      },
      "execution_count": 15,
      "outputs": []
    },
    {
      "cell_type": "code",
      "source": [
        "# Dividir el dataset en conjunto de entrenamiento y prueba para cada target\n",
        "X_train, X_test, y1_train, y1_test = train_test_split(X, y1, test_size=0.2, random_state=42)\n",
        "_, _, y2_train, y2_test = train_test_split(X, y2, test_size=0.2, random_state=42)\n",
        "_, _, y3_train, y3_test = train_test_split(X, y3, test_size=0.2, random_state=42)\n",
        "_, _, y4_train, y4_test = train_test_split(X, y4, test_size=0.2, random_state=42)\n",
        "_, _, y5_train, y5_test = train_test_split(X, y5, test_size=0.2, random_state=42)\n",
        "_, _, y6_train, y6_test = train_test_split(X, y6, test_size=0.2, random_state=42)\n",
        "_, _, y7_train, y7_test = train_test_split(X, y7, test_size=0.2, random_state=42)"
      ],
      "metadata": {
        "id": "qXN7c2Q3zNNh"
      },
      "execution_count": 16,
      "outputs": []
    },
    {
      "cell_type": "code",
      "source": [
        "# Mostrar las formas de los conjuntos de entrenamiento y prueba\n",
        "print(\"Tamaño del conjunto de entrenamiento:\", X_train.shape)\n",
        "print(\"Tamaño del conjunto de prueba:\", X_test.shape)\n",
        "print(\"Tamaño de y1_train:\", y1_train.shape)\n",
        "print(\"Tamaño de y1_test:\", y1_test.shape)\n",
        "print(\"Tamaño de y2_train:\", y2_train.shape)\n",
        "print(\"Tamaño de y2_test:\", y2_test.shape)\n",
        "print(\"Tamaño de y3_train:\", y3_train.shape)\n",
        "print(\"Tamaño de y3_test:\", y3_test.shape)\n",
        "print(\"Tamaño de y4_train:\", y4_train.shape)\n",
        "print(\"Tamaño de y4_test:\", y4_test.shape)\n",
        "print(\"Tamaño de y5_train:\", y5_train.shape)\n",
        "print(\"Tamaño de y5_test:\", y5_test.shape)\n",
        "print(\"Tamaño de y6_train:\", y6_train.shape)\n",
        "print(\"Tamaño de y6_test:\", y6_test.shape)\n",
        "print(\"Tamaño de y7_train:\", y7_train.shape)\n",
        "print(\"Tamaño de y7_test:\", y7_test.shape)"
      ],
      "metadata": {
        "id": "rLZ4JDo7zPfU",
        "colab": {
          "base_uri": "https://localhost:8080/"
        },
        "outputId": "69c122ed-e5a6-41b6-de70-72730b708a77"
      },
      "execution_count": 17,
      "outputs": [
        {
          "output_type": "stream",
          "name": "stdout",
          "text": [
            "Tamaño del conjunto de entrenamiento: (3291, 105)\n",
            "Tamaño del conjunto de prueba: (823, 105)\n",
            "Tamaño de y1_train: (3291,)\n",
            "Tamaño de y1_test: (823,)\n",
            "Tamaño de y2_train: (3291,)\n",
            "Tamaño de y2_test: (823,)\n",
            "Tamaño de y3_train: (3291,)\n",
            "Tamaño de y3_test: (823,)\n",
            "Tamaño de y4_train: (3291,)\n",
            "Tamaño de y4_test: (823,)\n",
            "Tamaño de y5_train: (3291,)\n",
            "Tamaño de y5_test: (823,)\n",
            "Tamaño de y6_train: (3291,)\n",
            "Tamaño de y6_test: (823,)\n",
            "Tamaño de y7_train: (3291,)\n",
            "Tamaño de y7_test: (823,)\n"
          ]
        }
      ]
    },
    {
      "cell_type": "markdown",
      "source": [
        "Anñalisis de los datos y EDA"
      ],
      "metadata": {
        "id": "IymKCWDc5REj"
      }
    },
    {
      "cell_type": "code",
      "source": [
        "# distribución variable? balanceado o no?\n",
        "\n",
        "sns.countplot(x = y1_train, data = X_train);"
      ],
      "metadata": {
        "id": "IQrIFWRX4Olk",
        "colab": {
          "base_uri": "https://localhost:8080/",
          "height": 449
        },
        "outputId": "1b2506b3-019f-4e3a-97a6-9f5245523c42"
      },
      "execution_count": 18,
      "outputs": [
        {
          "output_type": "display_data",
          "data": {
            "text/plain": [
              "<Figure size 640x480 with 1 Axes>"
            ],
            "image/png": "[encoded data removed]"
          },
          "metadata": {}
        }
      ]
    },
    {
      "cell_type": "code",
      "source": [
        "# histoplots de los targets\n",
        "sns.histplot(df[\"alcohol\"])"
      ],
      "metadata": {
        "id": "lU4t9fC34ZGL",
        "colab": {
          "base_uri": "https://localhost:8080/",
          "height": 158
        },
        "outputId": "4cae0f8f-08f9-4a43-9266-7f43e808364e"
      },
      "execution_count": 19,
      "outputs": [
        {
          "output_type": "error",
          "ename": "NameError",
          "evalue": "name 'df' is not defined",
          "traceback": [
            "\u001b[0;31m---------------------------------------------------------------------------\u001b[0m",
            "\u001b[0;31mNameError\u001b[0m                                 Traceback (most recent call last)",
            "\u001b[0;32m<ipython-input-19-912f32b3a486>\u001b[0m in \u001b[0;36m<cell line: 2>\u001b[0;34m()\u001b[0m\n\u001b[1;32m      1\u001b[0m \u001b[0;31m# histoplots de los targets\u001b[0m\u001b[0;34m\u001b[0m\u001b[0;34m\u001b[0m\u001b[0m\n\u001b[0;32m----> 2\u001b[0;31m \u001b[0msns\u001b[0m\u001b[0;34m.\u001b[0m\u001b[0mhistplot\u001b[0m\u001b[0;34m(\u001b[0m\u001b[0mdf\u001b[0m\u001b[0;34m[\u001b[0m\u001b[0;34m\"alcohol\"\u001b[0m\u001b[0;34m]\u001b[0m\u001b[0;34m)\u001b[0m\u001b[0;34m\u001b[0m\u001b[0;34m\u001b[0m\u001b[0m\n\u001b[0m",
            "\u001b[0;31mNameError\u001b[0m: name 'df' is not defined"
          ]
        }
      ]
    },
    {
      "cell_type": "markdown",
      "source": [
        "Análisis bivariante"
      ],
      "metadata": {
        "id": "0xH1O04q4kLs"
      }
    },
    {
      "cell_type": "code",
      "source": [
        "# target contra la categórica\n",
        "bt.plot_categorical_relationship_fin(df_eda, \"quality\", \"class\", relative_freq=True, show_values=True)"
      ],
      "metadata": {
        "id": "iTP7qsoQ4l7T"
      },
      "execution_count": null,
      "outputs": []
    },
    {
      "cell_type": "markdown",
      "source": [
        "Anñalisis multivariante"
      ],
      "metadata": {
        "id": "2XtpeRM74r2k"
      }
    },
    {
      "cell_type": "code",
      "source": [
        "df_eda.describe()"
      ],
      "metadata": {
        "id": "gOWGLCJH4tYv"
      },
      "execution_count": null,
      "outputs": []
    },
    {
      "cell_type": "code",
      "source": [
        "df_eda.hist()"
      ],
      "metadata": {
        "id": "-Cn7_siM4xD7"
      },
      "execution_count": null,
      "outputs": []
    },
    {
      "cell_type": "code",
      "source": [
        "#matriz de correlación\n",
        "df_eda.corr(numeric_only= True)"
      ],
      "metadata": {
        "id": "MaK0CYtb417r"
      },
      "execution_count": null,
      "outputs": []
    },
    {
      "cell_type": "code",
      "source": [
        "corr_matrix = df_eda.corr(numeric_only= True)\n",
        "corr_matrix[\"alcohol\"].abs().sort_values(ascending = False)"
      ],
      "metadata": {
        "id": "_QznlGNL45fJ"
      },
      "execution_count": null,
      "outputs": []
    },
    {
      "cell_type": "code",
      "source": [
        "corr_matrix = df_eda.corr(numeric_only= True)\n",
        "corr_matrix[\"quality\"].abs().sort_values(ascending = False)"
      ],
      "metadata": {
        "id": "nYLWuX4G49nJ"
      },
      "execution_count": null,
      "outputs": []
    },
    {
      "cell_type": "code",
      "source": [
        "columnas = corr_matrix[\"alcohol\"][corr_matrix[\"alcohol\"].abs() > 0.05].index.to_list()\n",
        "if 'alcohol' in columnas:\n",
        "    columnas.remove('alcohol')\n",
        "columnas"
      ],
      "metadata": {
        "id": "ke74sqiO5BR0"
      },
      "execution_count": null,
      "outputs": []
    },
    {
      "cell_type": "code",
      "source": [
        "sns.pairplot(df_eda[columnas]);"
      ],
      "metadata": {
        "id": "xZpkMebz5FvW"
      },
      "execution_count": null,
      "outputs": []
    },
    {
      "cell_type": "code",
      "source": [
        "sns.heatmap(df_eda.corr(numeric_only = True),annot=True);\n",
        "plt.show();"
      ],
      "metadata": {
        "id": "JLsK89Qt5JH_"
      },
      "execution_count": null,
      "outputs": []
    },
    {
      "cell_type": "markdown",
      "source": [
        "Modelado"
      ],
      "metadata": {
        "id": "5olb90rF5N3d"
      }
    },
    {
      "cell_type": "code",
      "source": [
        "X_train.columns"
      ],
      "metadata": {
        "id": "1uu_8shn5Oyu"
      },
      "execution_count": null,
      "outputs": []
    },
    {
      "cell_type": "code",
      "source": [
        "X_train\n",
        "X_train1 = pd.concat([X_train, y2_train], axis=1)\n",
        "X_test\n",
        "X_test1 = pd.concat([X_test, y2_test], axis=1)\n",
        "\n",
        "features = X_train.columns\n",
        "features2 = X_train1.columns\n",
        "\n",
        "scaler = StandardScaler()\n",
        "\n",
        "X_train_scaled = pd.DataFrame(scaler.fit_transform(X_train), columns=features)\n",
        "X_test_scaled = pd.DataFrame(scaler.transform(X_test), columns=features)\n",
        "\n",
        "X_train1_scaled = pd.DataFrame(scaler.fit_transform(X_train1), columns=features2)\n",
        "X_test1_scaled = pd.DataFrame(scaler.transform(X_test1), columns=features2)"
      ],
      "metadata": {
        "id": "Rnfrxe6C5Vro"
      },
      "execution_count": null,
      "outputs": []
    },
    {
      "cell_type": "code",
      "source": [
        "model_names = [\"Regresion Lineal\",\"DecisionTree\",\"Random Forest\",\"XGBoost\",\"LightGBM\",\"CatBoost\"]\n",
        "lr_clf = LinearRegression()\n",
        "tree_clf = DecisionTreeRegressor(random_state= 42)\n",
        "rf_clf = RandomForestRegressor(random_state= 42)\n",
        "xgb_clf = XGBRegressor(random_state = 42)\n",
        "lgb_clf = LGBMRegressor(random_state= 42, verbose = -100)\n",
        "cat_clf = CatBoostRegressor(random_state= 42, verbose = False)\n",
        "\n",
        "model_set = [lr_clf, tree_clf, rf_clf, xgb_clf, lgb_clf, cat_clf]"
      ],
      "metadata": {
        "id": "AHkqCi2b6WCC"
      },
      "execution_count": null,
      "outputs": []
    },
    {
      "cell_type": "code",
      "source": [
        "metricas_cv = {}\n",
        "valores = []\n",
        "for nombre,modelo in zip(model_names, model_set):\n",
        "    print(modelo)\n",
        "    if nombre == \"Regresion Lineal\":\n",
        "        metricas_cv[nombre] = cross_val_score(modelo, X_train_scaled, y2_train, cv = 3, scoring = \"neg_mean_squared_error\")\n",
        "    else:\n",
        "        metricas_cv[nombre] = cross_val_score(modelo, X_train, y2_train, cv = 3, scoring = \"neg_mean_squared_error\")\n",
        "    valores.append(np.mean(metricas_cv[nombre]))\n",
        "ganador = list(metricas_cv.keys())[np.argmax(valores)]"
      ],
      "metadata": {
        "id": "oMYGdNru6bBN"
      },
      "execution_count": null,
      "outputs": []
    },
    {
      "cell_type": "code",
      "source": [
        "for model_name, valores in metricas_cv.items():\n",
        "    print(f\"Model <{model_name}>, RMSE_CV: {np.sqrt(-np.mean(valores))}\")\n",
        "print(f\"El ganador es {ganador}\")"
      ],
      "metadata": {
        "id": "C4Ks3Jbh6ds5"
      },
      "execution_count": null,
      "outputs": []
    },
    {
      "cell_type": "code",
      "source": [
        "catb_rg = CatBoostRegressor(verbose = False)\n",
        "\n",
        "params_grid = {\n",
        "    'iterations': [150, 200, 100],\n",
        "    'learning_rate': [0.2, 0.4, 0.6, 0.9],\n",
        "    'verbose' : [False]\n",
        "}\n",
        "\n",
        "catb_grid = GridSearchCV(catb_rg,\n",
        "                       param_grid= params_grid,\n",
        "                       cv = 3,\n",
        "                       scoring = \"recall_macro\",\n",
        "                       n_jobs = -1)\n",
        "\n",
        "catb_grid.fit(X_train, y2_train)"
      ],
      "metadata": {
        "id": "lOwTNp9L6glK"
      },
      "execution_count": null,
      "outputs": []
    },
    {
      "cell_type": "code",
      "source": [
        "np.sqrt(catb_grid.best_score_)"
      ],
      "metadata": {
        "id": "XVHVYiXt6jig"
      },
      "execution_count": null,
      "outputs": []
    },
    {
      "cell_type": "code",
      "source": [
        "catb_grid.best_params_"
      ],
      "metadata": {
        "id": "ech4-Ix76mF1"
      },
      "execution_count": null,
      "outputs": []
    },
    {
      "cell_type": "code",
      "source": [
        "y2_pred = catb_grid.best_estimator_.predict(X_test)\n",
        "print(\"MAE:\", mean_absolute_error(y2_test,y2_pred))\n",
        "print(\"MAPE:\", mean_absolute_percentage_error(y2_test,y2_pred))\n",
        "print(\"RMSE:\", np.sqrt(mean_squared_error(y2_test, y2_pred)))\n",
        "# Ha subido de 0.36 a 0.38"
      ],
      "metadata": {
        "id": "f0NYQPHp6oek"
      },
      "execution_count": null,
      "outputs": []
    },
    {
      "cell_type": "code",
      "source": [
        "metricas_optimizadas = {}"
      ],
      "metadata": {
        "id": "BaUC5nBQ6qt2"
      },
      "execution_count": null,
      "outputs": []
    },
    {
      "cell_type": "code",
      "source": [
        "param_grid = {\n",
        "    \"alpha\": [0.1, 1, 10, 100],\n",
        "    \"l1_ratio\": [0.2,0.4,0.6,1]\n",
        "\n",
        "}\n",
        "model = CatBoostRegressor()\n",
        "lr_grid = RandomizedSearchCV( model,\n",
        "                             cv = 3,\n",
        "                             n_iter = 20,\n",
        "                             param_distributions= param_grid,\n",
        "                             scoring= \"neg_mean_squared_error\"\n",
        ")\n",
        "\n",
        "catb_grid.fit(X_train_scaled,y2_train)\n",
        "print(\"LR best_score:\", np.sqrt(-catb_grid.best_score_))\n",
        "metricas_optimizadas[\"Linear Regresion\"] = np.sqrt(-catb_grid.best_score_)"
      ],
      "metadata": {
        "id": "xmOrhJAu6u5G"
      },
      "execution_count": null,
      "outputs": []
    }
  ],
  "metadata": {
    "kernelspec": {
      "display_name": "Python 3",
      "language": "python",
      "name": "python3"
    },
    "language_info": {
      "codemirror_mode": {
        "name": "ipython",
        "version": 3
      },
      "file_extension": ".py",
      "mimetype": "text/x-python",
      "name": "python",
      "nbconvert_exporter": "python",
      "pygments_lexer": "ipython3",
      "version": "3.10.11"
    },
    "colab": {
      "provenance": []
    }
  },
  "nbformat": 4,
  "nbformat_minor": 0
}